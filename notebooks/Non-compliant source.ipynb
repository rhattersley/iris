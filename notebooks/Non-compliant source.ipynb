{
 "metadata": {
  "name": "",
  "signature": "sha256:13bbcaefa95f9ab4d6b608830d6d9751937f365baf85b29551baf934b16bd43a"
 },
 "nbformat": 3,
 "nbformat_minor": 0,
 "worksheets": [
  {
   "cells": [
    {
     "cell_type": "markdown",
     "metadata": {},
     "source": [
      "# Dealing with non-compliant data.\n",
      "\n",
      "Open a read-only, non-compliant data file (e.g. from an OPeNDAP URL) and adapt it to become compliant."
     ]
    }
   ],
   "metadata": {}
  }
 ]
}