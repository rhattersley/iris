{
 "cells": [
  {
   "cell_type": "code",
   "execution_count": 1,
   "metadata": {
    "collapsed": true
   },
   "outputs": [],
   "source": [
    "%matplotlib inline\n",
    "\n",
    "import iris\n",
    "import iris.quickplot as qplt\n",
    "#import matplotlib.pyplot as plt"
   ]
  },
  {
   "cell_type": "code",
   "execution_count": 2,
   "metadata": {
    "collapsed": false
   },
   "outputs": [
    {
     "name": "stdout",
     "output_type": "stream",
     "text": [
      "air_temperature / (K)               (time: 240; latitude: 37; longitude: 49)\n",
      "     Dimension coordinates:\n",
      "          time                           x              -              -\n",
      "          latitude                       -              x              -\n",
      "          longitude                      -              -              x\n",
      "     Auxiliary coordinates:\n",
      "          forecast_period                x              -              -\n",
      "     Scalar coordinates:\n",
      "          forecast_reference_time: 1859-09-01 06:00:00\n",
      "          height: 1.5 m\n",
      "     Attributes:\n",
      "          Conventions: CF-1.5\n",
      "          Model scenario: A1B\n",
      "          STASH: m01s03i236\n",
      "          source: Data from Met Office Unified Model 6.05\n",
      "     Cell methods:\n",
      "          mean: time (6 hour)\n"
     ]
    },
    {
     "name": "stderr",
     "output_type": "stream",
     "text": [
      "writing [iris.fileformats._pyke_rules.compiled_krb]/fc_rules_cf_fc.py\n",
      "writing [iris.fileformats._pyke_rules.compiled_krb]/compiled_pyke_files.py\n",
      "/net/home/h05/ithr/git/iris/lib/iris/fileformats/cf.py:1139: UserWarning: NetCDF default loading behaviour currently does not expose variables which define reference surfaces for dimensionless vertical coordinates as independent Cubes. This behaviour is deprecated in favour of automatic promotion to Cubes. To switch to the new behaviour, set iris.FUTURE.netcdf_promote to True.\n",
      "  warnings.warn(msg)\n"
     ]
    }
   ],
   "source": [
    "air_temp = iris.load_cube('/home/h05/ithr/git/iris-sample-data/sample_data/A1B_north_america.nc')\n",
    "\n",
    "print air_temp"
   ]
  },
  {
   "cell_type": "code",
   "execution_count": 6,
   "metadata": {
    "collapsed": false
   },
   "outputs": [
    {
     "name": "stderr",
     "output_type": "stream",
     "text": [
      "/net/home/h05/ithr/git/iris/lib/iris/coords.py:802: UserWarning: Coordinate u'longitude' is not bounded, guessing contiguous bounds.\n",
      "  'contiguous bounds.'.format(self.name()))\n",
      "/net/home/h05/ithr/git/iris/lib/iris/coords.py:802: UserWarning: Coordinate u'latitude' is not bounded, guessing contiguous bounds.\n",
      "  'contiguous bounds.'.format(self.name()))\n"
     ]
    },
    {
     "data": {
      "text/plain": [
       "<matplotlib.collections.QuadMesh at 0x7f42caccd250>"
      ]
     },
     "execution_count": 6,
     "metadata": {},
     "output_type": "execute_result"
    },
    {
     "name": "stderr",
     "output_type": "stream",
     "text": [
      "/data/users/ithr/miniconda/envs/iris/lib/python2.7/site-packages/matplotlib/collections.py:548: FutureWarning: elementwise comparison failed; returning scalar instead, but in the future will perform elementwise comparison\n",
      "  if self._edgecolors == 'face':\n"
     ]
    },
    {
     "data": {
      "image/png": "[encoded data removed]",
      "text/plain": [
       "<matplotlib.figure.Figure at 0x7f42cad13c90>"
      ]
     },
     "metadata": {},
     "output_type": "display_data"
    }
   ],
   "source": [
    "qplt.pcolormesh(air_temp[0])"
   ]
  },
  {
   "cell_type": "code",
   "execution_count": 43,
   "metadata": {
    "collapsed": false
   },
   "outputs": [
    {
     "name": "stdout",
     "output_type": "stream",
     "text": [
      "Latitude: 15.0 to 60.0\n",
      "Longitude: 225.0 to 315.0\n",
      "Time: -946800.0 to 1118160.0\n"
     ]
    }
   ],
   "source": [
    "lats = air_temp.coord('latitude').points\n",
    "lons = air_temp.coord('longitude').points\n",
    "times = air_temp.coord('time').points\n",
    "print 'Latitude:', lats.min(), 'to', lats.max()\n",
    "print 'Longitude:', lons.min(), 'to', lons.max()\n",
    "print 'Time:', times.min(), 'to', times.max()"
   ]
  },
  {
   "cell_type": "code",
   "execution_count": 26,
   "metadata": {
    "collapsed": false
   },
   "outputs": [
    {
     "name": "stdout",
     "output_type": "stream",
     "text": [
      "air_temperature / (K)               (time: 240; latitude: 45; longitude: 70)\n",
      "     Dimension coordinates:\n",
      "          time                           x              -              -\n",
      "          latitude                       -              x              -\n",
      "          longitude                      -              -              x\n",
      "     Auxiliary coordinates:\n",
      "          forecast_period                x              -              -\n",
      "     Scalar coordinates:\n",
      "          forecast_reference_time: 1859-09-01 06:00:00\n",
      "          height: 1.5 m\n",
      "     Attributes:\n",
      "          Conventions: CF-1.5\n",
      "          Model scenario: A1B\n",
      "          STASH: m01s03i236\n",
      "          source: Data from Met Office Unified Model 6.05\n",
      "     Cell methods:\n",
      "          mean: time (6 hour)\n"
     ]
    },
    {
     "data": {
      "image/png": "[encoded data removed]",
      "text/plain": [
       "<matplotlib.figure.Figure at 0x7f42c7612110>"
      ]
     },
     "metadata": {},
     "output_type": "display_data"
    }
   ],
   "source": [
    "# Cross-product style interpolation\n",
    "sample_points = [('latitude', range(15, 60)), ('longitude', range(230, 300))]\n",
    "sampled = air_temp.interpolate(sample_points, iris.analysis.Nearest())\n",
    "qplt.pcolormesh(sampled[0])\n",
    "print sampled"
   ]
  },
  {
   "cell_type": "code",
   "execution_count": 92,
   "metadata": {
    "collapsed": false
   },
   "outputs": [
    {
     "name": "stdout",
     "output_type": "stream",
     "text": [
      "air_temperature / (K)               (-- : 50)\n",
      "     Auxiliary coordinates:\n",
      "          forecast_period               x\n",
      "          latitude                      x\n",
      "          longitude                     x\n",
      "          time                          x\n",
      "     Scalar coordinates:\n",
      "          forecast_reference_time: 1859-09-01 06:00:00\n",
      "          height: 1.5 m\n",
      "     Attributes:\n",
      "          Conventions: CF-1.5\n",
      "          Model scenario: A1B\n",
      "          STASH: m01s03i236\n",
      "          source: Data from Met Office Unified Model 6.05\n",
      "     Cell methods:\n",
      "          mean: time (6 hour)\n"
     ]
    },
    {
     "data": {
      "image/png": "[encoded data removed]",
      "text/plain": [
       "<matplotlib.figure.Figure at 0x7f42a8b0b9d0>"
      ]
     },
     "metadata": {},
     "output_type": "display_data"
    }
   ],
   "source": [
    "import iris.analysis.trajectory\n",
    "import numpy as np\n",
    "\n",
    "circle_path = [('latitude', 40+10*np.sin(np.linspace(0, 2*np.pi))),\n",
    "               ('longitude', 280+10*np.cos(np.linspace(0, 2*np.pi))),\n",
    "               ('time', np.linspace(-946800.0, 1118160.0))]\n",
    "sampled = iris.analysis.trajectory.interpolate(air_temp, circle_path)\n",
    "qplt.plot(sampled)\n",
    "print sampled"
   ]
  },
  {
   "cell_type": "code",
   "execution_count": 97,
   "metadata": {
    "collapsed": false
   },
   "outputs": [
    {
     "data": {
      "image/png": "[encoded data removed]",
      "text/plain": [
       "<matplotlib.figure.Figure at 0x7f42a8924d10>"
      ]
     },
     "metadata": {},
     "output_type": "display_data"
    }
   ],
   "source": [
    "qplt.pcolormesh(air_temp[0])\n",
    "lons, lats = circle_path[0][1], circle_path[1][1]\n",
    "_ = qplt.plt.plot(lats, lons, transform=air_temp.coord_system().as_cartopy_crs())"
   ]
  },
  {
   "cell_type": "code",
   "execution_count": 76,
   "metadata": {
    "collapsed": false
   },
   "outputs": [
    {
     "name": "stdout",
     "output_type": "stream",
     "text": [
      "[[ 50  60  70  80  90]\n",
      " [ 50  60  70  80  90]\n",
      " [  0  10  20  30  40]\n",
      " [100 110 120 130 140]]\n",
      "[[ 70  60  60  50  80]\n",
      " [ 70  60  60  50  80]\n",
      " [ 20  10  10   0  30]\n",
      " [120 110 110 100 130]]\n"
     ]
    }
   ],
   "source": [
    "import biggus\n",
    "b = biggus.NumpyArrayAdapter(np.arange(20).reshape(4, 5) * 10)\n",
    "print b[[1,1,0,2]].ndarray()\n",
    "print b[[1,1,0,2], [2, 1, 1, 0, 3]].ndarray()"
   ]
  },
  {
   "cell_type": "code",
   "execution_count": 82,
   "metadata": {
    "collapsed": false
   },
   "outputs": [
    {
     "name": "stdout",
     "output_type": "stream",
     "text": [
      "[[ 50  60  70  80  90]\n",
      " [ 50  60  70  80  90]\n",
      " [  0  10  20  30  40]\n",
      " [100 110 120 130 140]]\n"
     ]
    }
   ],
   "source": [
    "import dask.array as da\n",
    "d = da.from_array(np.arange(20).reshape(4, 5) * 10, chunks=(4, 5))\n",
    "print np.array(d[[1,1,0,2]])\n",
    "# print np.array(d[[1,1,0,2], [2,1,1,0,3]])\n",
    "# NotImplementedError: Don't yet support nd fancy indexing"
   ]
  }
 ],
 "metadata": {
  "kernelspec": {
   "display_name": "Python 2",
   "language": "python",
   "name": "python2"
  },
  "language_info": {
   "codemirror_mode": {
    "name": "ipython",
    "version": 2
   },
   "file_extension": ".py",
   "mimetype": "text/x-python",
   "name": "python",
   "nbconvert_exporter": "python",
   "pygments_lexer": "ipython2",
   "version": "2.7.11"
  }
 },
 "nbformat": 4,
 "nbformat_minor": 0
}
